{
 "cells": [
  {
   "cell_type": "markdown",
   "metadata": {},
   "source": [
    "# BERT Transformer\n",
    "\n",
    "\n",
    "`Bidirectional Encoder Representations from Transformers (BERT)`\n",
    "\n",
    "\n",
    "Issue with Word2Vec, In these two sentences the word 'fair' has different meaning.\n",
    "\n",
    "- It was not a `fair` game.\n",
    "- The town fair was really fun.\n",
    "\n",
    "But word2vec will only generate a single vector for scenarios. There is no context.\n",
    "\n",
    "This contextualization meaning of the word will be provided by BERT.\n",
    "\n",
    "\n",
    "The original English-language BERT has two models:\n",
    "\n",
    "1. the BERTBASE: 12 encoders with 12 bidirectional self-attention heads\n",
    "2. the BERTLARGE: 24 encoders with 16 bidirectional self-attention heads. \n",
    "\n",
    "Both models are pre-trained from unlabeled data extracted from the BooksCorpus with 800M words and English Wikipedia with 2,500M words.\n",
    "\n",
    "\n",
    "BERT was pretrained on two tasks\n",
    "1. language modelling (15% of tokens were `masked`(removed) and BERT was trained to predict them from context) \n",
    "2. next sentence prediction (BERT was trained to predict if a chosen next sentence was probable or not given the first sentence). \n",
    "\n",
    "As a result of the training process, BERT learns contextual embeddings for words. After pretraining, which is computationally expensive, BERT can be finetuned with less resources on smaller datasets to optimize its performance on specific tasks."
   ]
  },
  {
   "cell_type": "markdown",
   "metadata": {},
   "source": [
    "## References\n",
    "\n",
    "https://en.wikipedia.org/wiki/BERT_(language_model)\n",
    "\n",
    "http://jalammar.github.io/illustrated-bert/\n",
    "\n",
    "https://www.tensorflow.org/hub\n",
    "\n",
    "https://tfhub.dev/google/collections/bert/1\n",
    "\n",
    "https://tfhub.dev/tensorflow/bert_en_uncased_L-12_H-768_A-12/4\n",
    "\n",
    "https://www.youtube.com/c/codebasics"
   ]
  }
 ],
 "metadata": {
  "kernelspec": {
   "display_name": "Python 3.8.3 64-bit ('base': conda)",
   "language": "python",
   "name": "python383jvsc74a57bd0dba788e4a50ad11c3aca04f6a487ccbbf2decea49c956f88ab099965f16291a4"
  },
  "language_info": {
   "name": "python",
   "version": "3.8.3"
  },
  "orig_nbformat": 4
 },
 "nbformat": 4,
 "nbformat_minor": 2
}
