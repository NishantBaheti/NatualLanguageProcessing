{
 "cells": [
  {
   "cell_type": "markdown",
   "metadata": {},
   "source": [
    "<!-- #  Lemmatization\n",
    "\n",
    "TODO\n",
    "\n",
    "# Lexicons\n",
    "\n",
    "TODO\n",
    "\n",
    "# N-grams\n",
    "\n",
    "TODO\n",
    "\n",
    "# Normalization\n",
    "\n",
    "TODO\n",
    "\n",
    "# Named Entity Recognition\n",
    "\n",
    "TODO\n",
    "\n",
    "# Part-of-speech (POS) Tagging\n",
    "\n",
    "TODO -->"
   ]
  }
 ],
 "metadata": {
  "kernelspec": {
   "display_name": "Python 3.8.3 64-bit ('base': conda)",
   "language": "python",
   "name": "python383jvsc74a57bd0dba788e4a50ad11c3aca04f6a487ccbbf2decea49c956f88ab099965f16291a4"
  },
  "language_info": {
   "codemirror_mode": {
    "name": "ipython",
    "version": 3
   },
   "file_extension": ".py",
   "mimetype": "text/x-python",
   "name": "python",
   "nbconvert_exporter": "python",
   "pygments_lexer": "ipython3",
   "version": "3.8.3"
  }
 },
 "nbformat": 4,
 "nbformat_minor": 4
}
