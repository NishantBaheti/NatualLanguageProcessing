{
 "cells": [
  {
   "cell_type": "markdown",
   "metadata": {},
   "source": [
    "# Natural Language Processing\n",
    "\n",
    "`Combining Computer Science, Data Science and linguisitics for computer to understand human languages.`"
   ]
  },
  {
   "cell_type": "code",
   "execution_count": 1,
   "metadata": {},
   "outputs": [],
   "source": [
    "import nltk \n",
    "\n",
    "## nltk.download('punkt')\n",
    "## nltk.download('book')\n",
    "## will be downloaded in the user directory\n",
    "\n",
    "text = \"Hello ! My name is Bazooka. Foo is bar and bar is foo.\""
   ]
  },
  {
   "cell_type": "markdown",
   "metadata": {},
   "source": [
    "## Corpus\n",
    "\n",
    "Corpus is latin for 'body', plural is Corpora."
   ]
  },
  {
   "cell_type": "markdown",
   "metadata": {},
   "source": [
    "### Text Corpora /Text Corpus \n",
    "\n",
    "- Gutenberg Corpus\n",
    "- Web and Chat Text\n",
    "- Brown Corpus \n",
    "- Reuters Corpus\n",
    "- Inaugural Address Corpus\n",
    "- Annotated Text Corpora\n",
    "- etc.\n",
    "\n",
    "#### Gutenberg Corpus \n",
    "NLTK includes a small selection of texts from the Project Gutenberg electronic text archive, which contains some 25,000 free electronic books, hosted at. \n",
    "    \n",
    "<a href='http://www.gutenberg.org/'>http://www.gutenberg.org/</a>\n",
    "\n",
    "#### Brown \n",
    "The Brown Corpus was the first million-word electronic corpus of English, \n",
    "    \n",
    "#### Inaugural \n",
    "US presidential speeches \n",
    "    \n",
    "    \n",
    "#### Popular Text Corpora \n",
    "\n",
    "stopwords : Collection of stop words.\n",
    "reuters : Collection of news articles.\n",
    "cmudict : Collection of CMU Dictionary words.\n",
    "movie_reviews : Collection of Movie Reviews.\n",
    "np_chat : Collection of chat text.\n",
    "names : Collection of names associated with males and females.\n",
    "state_union : Collection of state union address.\n",
    "wordnet : Collection of all lexical entries.\n",
    "words : Collection of words in Wordlist corpus.\n",
    "\n",
    "#### Text Corpus Structure\n",
    "A text corpus is organized into any of the following four structures.\n",
    "\n",
    "Isolated - Holds Individual text collections.\n",
    "Categorized - Each text collection tagged to a category.\n",
    "Overlapping - Each text collection tagged to one or more categories, and\n",
    "Temporal - Each text collection tagged to a period, date, time, etc."
   ]
  },
  {
   "cell_type": "code",
   "execution_count": 23,
   "metadata": {},
   "outputs": [
    {
     "data": {
      "text/plain": [
       "['english-kjv.txt',\n",
       " 'english-web.txt',\n",
       " 'finnish.txt',\n",
       " 'french.txt',\n",
       " 'german.txt',\n",
       " 'lolcat.txt',\n",
       " 'portuguese.txt',\n",
       " 'swedish.txt']"
      ]
     },
     "execution_count": 23,
     "metadata": {},
     "output_type": "execute_result"
    }
   ],
   "source": [
    "from nltk.corpus import genesis \n",
    "\n",
    "genesis.fileids()"
   ]
  },
  {
   "cell_type": "code",
   "execution_count": 24,
   "metadata": {},
   "outputs": [
    {
     "name": "stdout",
     "output_type": "stream",
     "text": [
      "+---------------------+-------------------------+-----------------+\n",
      "| average word length | average sentence length |     fileids     |\n",
      "+---------------------+-------------------------+-----------------+\n",
      "|          4          |            30           | english-kjv.txt |\n",
      "|          4          |            19           | english-web.txt |\n",
      "|          5          |            15           |   finnish.txt   |\n",
      "|          4          |            23           |    french.txt   |\n",
      "|          4          |            23           |    german.txt   |\n",
      "|          4          |            20           |    lolcat.txt   |\n",
      "|          4          |            27           |  portuguese.txt |\n",
      "|          4          |            30           |   swedish.txt   |\n",
      "+---------------------+-------------------------+-----------------+\n"
     ]
    }
   ],
   "source": [
    "from prettytable import PrettyTable\n",
    "\n",
    "x = PrettyTable()\n",
    "x.field_names = [\"average word length\",\"average sentence length\",\"fileids\"]\n",
    "for fileid in genesis.fileids():\n",
    "    n_chars = len(genesis.raw(fileid))\n",
    "    n_words = len(genesis.words(fileid))\n",
    "    n_sents = len(genesis.sents(fileid))\n",
    "    \n",
    "    \n",
    "    x.add_row([int(n_chars/n_words), int(n_words/n_sents), fileid])\n",
    "    \n",
    "print(x)"
   ]
  },
  {
   "cell_type": "code",
   "execution_count": 25,
   "metadata": {},
   "outputs": [
    {
     "data": {
      "text/plain": [
       "2"
      ]
     },
     "execution_count": 25,
     "metadata": {},
     "output_type": "execute_result"
    }
   ],
   "source": [
    "from nltk.corpus import inaugural\n",
    "int(len(inaugural.words('1789-Washington.txt')) / len(set(inaugural.words('1789-Washington.txt'))))"
   ]
  },
  {
   "cell_type": "markdown",
   "metadata": {},
   "source": [
    "## Tokenization\n",
    "\n",
    "- Chopping down a sentence into individual words/ group of words  or `tokens`.\n",
    "- Removing punctuations, special characters.\n",
    "- Technique to simplify a corpus to prepare it for next stage of processing."
   ]
  },
  {
   "cell_type": "code",
   "execution_count": 2,
   "metadata": {},
   "outputs": [
    {
     "data": {
      "text/plain": [
       "['Hello !', 'My name is Bazooka.', 'Foo is bar and bar is foo.']"
      ]
     },
     "execution_count": 2,
     "metadata": {},
     "output_type": "execute_result"
    }
   ],
   "source": [
    "## sentence tokenizer\n",
    "sentences = nltk.sent_tokenize(text)\n",
    "sentences "
   ]
  },
  {
   "cell_type": "code",
   "execution_count": 3,
   "metadata": {},
   "outputs": [
    {
     "data": {
      "text/plain": [
       "['Hello',\n",
       " '!',\n",
       " 'My',\n",
       " 'name',\n",
       " 'is',\n",
       " 'Bazooka',\n",
       " '.',\n",
       " 'Foo',\n",
       " 'is',\n",
       " 'bar',\n",
       " 'and',\n",
       " 'bar',\n",
       " 'is',\n",
       " 'foo',\n",
       " '.']"
      ]
     },
     "execution_count": 3,
     "metadata": {},
     "output_type": "execute_result"
    }
   ],
   "source": [
    "## word tokenizer\n",
    "words = nltk.word_tokenize(text)\n",
    "\n",
    "words"
   ]
  },
  {
   "cell_type": "code",
   "execution_count": 4,
   "metadata": {},
   "outputs": [
    {
     "name": "stdout",
     "output_type": "stream",
     "text": [
      "\n",
      "    Word Frequencies : <bound method Counter.elements of FreqDist({'is': 3, '.': 2, 'bar': 2, 'Hello': 1, '!': 1, 'My': 1, 'name': 1, 'Bazooka': 1, 'Foo': 1, 'and': 1, ...})>\n",
      "    2 Most Common    : [('is', 3), ('.', 2)]\n",
      "\n"
     ]
    }
   ],
   "source": [
    "wordFreq = nltk.FreqDist(words)\n",
    "print(f\"\"\"\n",
    "    Word Frequencies : {wordFreq.elements}\n",
    "    2 Most Common    : {wordFreq.most_common(2)}\n",
    "\"\"\")"
   ]
  },
  {
   "cell_type": "code",
   "execution_count": 5,
   "metadata": {},
   "outputs": [
    {
     "name": "stdout",
     "output_type": "stream",
     "text": [
      "*** Introductory Examples for the NLTK Book ***\n",
      "Loading text1, ..., text9 and sent1, ..., sent9\n",
      "Type the name of the text or sentence to view it.\n",
      "Type: 'texts()' or 'sents()' to list the materials.\n",
      "text1: Moby Dick by Herman Melville 1851\n",
      "text2: Sense and Sensibility by Jane Austen 1811\n",
      "text3: The Book of Genesis\n",
      "text4: Inaugural Address Corpus\n",
      "text5: Chat Corpus\n",
      "text6: Monty Python and the Holy Grail\n",
      "text7: Wall Street Journal\n",
      "text8: Personals Corpus\n",
      "text9: The Man Who Was Thursday by G . K . Chesterton 1908\n"
     ]
    }
   ],
   "source": [
    "## Importing Items of book\n",
    "from nltk.book import *"
   ]
  },
  {
   "cell_type": "code",
   "execution_count": 6,
   "metadata": {},
   "outputs": [
    {
     "name": "stdout",
     "output_type": "stream",
     "text": [
      "triangular; triangular; triangular; triangular\n",
      "None\n"
     ]
    }
   ],
   "source": [
    "## find \n",
    "print(text1.findall(\"<tri.*r>\"))"
   ]
  },
  {
   "cell_type": "code",
   "execution_count": 7,
   "metadata": {},
   "outputs": [
    {
     "name": "stdout",
     "output_type": "stream",
     "text": [
      "260819\n"
     ]
    }
   ],
   "source": [
    "## word count\n",
    "print(len(text1))"
   ]
  },
  {
   "cell_type": "code",
   "execution_count": 8,
   "metadata": {},
   "outputs": [
    {
     "name": "stdout",
     "output_type": "stream",
     "text": [
      "19317\n"
     ]
    }
   ],
   "source": [
    "## unique word count \n",
    "print(len(set(text1)))"
   ]
  },
  {
   "cell_type": "code",
   "execution_count": 9,
   "metadata": {},
   "outputs": [
    {
     "name": "stdout",
     "output_type": "stream",
     "text": [
      "17231\n"
     ]
    }
   ],
   "source": [
    "## transforming words \n",
    "print(len(set([word.lower() for word in set(text1)])))"
   ]
  },
  {
   "cell_type": "code",
   "execution_count": 10,
   "metadata": {},
   "outputs": [
    {
     "name": "stdout",
     "output_type": "stream",
     "text": [
      "13.502044830977896\n"
     ]
    }
   ],
   "source": [
    "## word coverage \n",
    "print(len(text1) / len(set(text1)))"
   ]
  },
  {
   "cell_type": "code",
   "execution_count": 11,
   "metadata": {},
   "outputs": [
    {
     "data": {
      "text/plain": [
       "['Sunday', 'Sunset', 'Sunda']"
      ]
     },
     "execution_count": 11,
     "metadata": {},
     "output_type": "execute_result"
    }
   ],
   "source": [
    "## filtering \n",
    "[word for word in set(text1) if word.startswith('Sun')]"
   ]
  },
  {
   "cell_type": "markdown",
   "metadata": {},
   "source": [
    "## Stemming\n",
    "\n",
    "Removing all fixes - prefixes, affixes and suffixes."
   ]
  },
  {
   "cell_type": "markdown",
   "metadata": {},
   "source": [
    "##  Lemmatization\n",
    "\n",
    "Get origin of the words, removing"
   ]
  },
  {
   "cell_type": "markdown",
   "metadata": {},
   "source": [
    "## Lexicons\n",
    "\n",
    "X"
   ]
  },
  {
   "cell_type": "markdown",
   "metadata": {},
   "source": [
    "## Word Embeddings"
   ]
  },
  {
   "cell_type": "markdown",
   "metadata": {},
   "source": [
    "## N-grams"
   ]
  },
  {
   "cell_type": "markdown",
   "metadata": {},
   "source": [
    "## Normalization"
   ]
  },
  {
   "cell_type": "markdown",
   "metadata": {},
   "source": [
    "## Named Entity Recognition"
   ]
  },
  {
   "cell_type": "markdown",
   "metadata": {},
   "source": [
    "## Part-of-speech (POS) Tagging"
   ]
  },
  {
   "cell_type": "markdown",
   "metadata": {},
   "source": [
    "## Common frequency distribution methods \n",
    "\n",
    "| Method | Discription |\n",
    "| ------ | ----------- | \n",
    "| fdist = nltk.FreqDist(text) | freq. dist. object | \n",
    "| fdist.pprint() | print |\n",
    "| fdist['exmple'] | get count |\n",
    "| fdist.freq('example') | get freq |\n",
    "| fdist.N() | Total number of samples |\n",
    "| fdist.keys() | keys in desc order of freq |\n",
    "| for text in fdist | iterate |\n",
    "| fdist.max() | key with max freq |\n",
    "| fdist.tabulate() | tabulate |\n",
    "| fdist.plot() | plot of freq dist |\n",
    "| fdist.plot(cumulative=True) | cumulative plot of freq dist |\n",
    "| fdist1 < fdist2 | compare |"
   ]
  },
  {
   "cell_type": "code",
   "execution_count": 12,
   "metadata": {},
   "outputs": [],
   "source": [
    "## frequency distribution \n",
    "fdist = nltk.FreqDist(text1)\n",
    "\n",
    "## print([(text,fdist[text]) for text in fdist])"
   ]
  },
  {
   "cell_type": "code",
   "execution_count": 13,
   "metadata": {},
   "outputs": [
    {
     "name": "stdout",
     "output_type": "stream",
     "text": [
      "FreqDist({',': 18713, 'the': 13721, '.': 6862, 'of': 6536, 'and': 6024, 'a': 4569, 'to': 4542, ';': 4072, 'in': 3916, 'that': 2982, ...})\n"
     ]
    }
   ],
   "source": [
    "fdist.pprint()"
   ]
  },
  {
   "cell_type": "code",
   "execution_count": 14,
   "metadata": {},
   "outputs": [
    {
     "data": {
      "text/plain": [
       "7"
      ]
     },
     "execution_count": 14,
     "metadata": {},
     "output_type": "execute_result"
    }
   ],
   "source": [
    "fdist['Sunday']"
   ]
  },
  {
   "cell_type": "code",
   "execution_count": 15,
   "metadata": {},
   "outputs": [
    {
     "data": {
      "text/plain": [
       "2.683853553613809e-05"
      ]
     },
     "execution_count": 15,
     "metadata": {},
     "output_type": "execute_result"
    }
   ],
   "source": [
    "fdist.freq('Sunday')\t\t"
   ]
  },
  {
   "cell_type": "code",
   "execution_count": 16,
   "metadata": {},
   "outputs": [
    {
     "data": {
      "text/plain": [
       "260819"
      ]
     },
     "execution_count": 16,
     "metadata": {},
     "output_type": "execute_result"
    }
   ],
   "source": [
    "fdist.N()\t\t"
   ]
  },
  {
   "cell_type": "code",
   "execution_count": 17,
   "metadata": {},
   "outputs": [],
   "source": [
    "## fdist.keys()\t\t"
   ]
  },
  {
   "cell_type": "code",
   "execution_count": 18,
   "metadata": {},
   "outputs": [
    {
     "data": {
      "text/plain": [
       "','"
      ]
     },
     "execution_count": 18,
     "metadata": {},
     "output_type": "execute_result"
    }
   ],
   "source": [
    "fdist.max()\t\t"
   ]
  },
  {
   "cell_type": "code",
   "execution_count": 19,
   "metadata": {},
   "outputs": [],
   "source": [
    "## fdist.tabulate()\t\t"
   ]
  },
  {
   "cell_type": "code",
   "execution_count": 20,
   "metadata": {},
   "outputs": [
    {
     "data": {
      "image/png": "[encoded data removed]",
      "text/plain": [
       "<Figure size 432x288 with 1 Axes>"
      ]
     },
     "metadata": {
      "needs_background": "light"
     },
     "output_type": "display_data"
    },
    {
     "data": {
      "text/plain": [
       "<AxesSubplot:xlabel='Samples', ylabel='Counts'>"
      ]
     },
     "execution_count": 20,
     "metadata": {},
     "output_type": "execute_result"
    }
   ],
   "source": [
    "\n",
    "\n",
    "fdist = nltk.FreqDist(text)\n",
    "fdist.plot()\t\t"
   ]
  },
  {
   "cell_type": "code",
   "execution_count": 21,
   "metadata": {},
   "outputs": [
    {
     "data": {
      "image/png": "[encoded data removed]",
      "text/plain": [
       "<Figure size 432x288 with 1 Axes>"
      ]
     },
     "metadata": {
      "needs_background": "light"
     },
     "output_type": "display_data"
    },
    {
     "data": {
      "text/plain": [
       "<AxesSubplot:xlabel='Samples', ylabel='Cumulative Counts'>"
      ]
     },
     "execution_count": 21,
     "metadata": {},
     "output_type": "execute_result"
    }
   ],
   "source": [
    "fdist.plot(cumulative=True)\t\t"
   ]
  },
  {
   "cell_type": "code",
   "execution_count": 22,
   "metadata": {},
   "outputs": [],
   "source": [
    "## compare\n",
    "## fdist1 < fdist2"
   ]
  },
  {
   "cell_type": "markdown",
   "metadata": {},
   "source": [
    "## Conditional Frequency \n",
    "\n",
    "    Conditional Frequency is Frequency Distribution based on conditions.\n",
    "    \n",
    "    CFD : Conditional Frequency Distribution"
   ]
  },
  {
   "cell_type": "code",
   "execution_count": 26,
   "metadata": {},
   "outputs": [],
   "source": [
    "cItems = [\n",
    "    ('F','apple'), \n",
    "    ('F','apple'), \n",
    "    ('F','kiwi'), \n",
    "    ('V','cabbage'), \n",
    "    ('V','cabbage'),\n",
    "    ('V','potato') \n",
    "]\n",
    "cfd = nltk.ConditionalFreqDist(cItems)"
   ]
  },
  {
   "cell_type": "code",
   "execution_count": 27,
   "metadata": {},
   "outputs": [
    {
     "data": {
      "text/plain": [
       "['F', 'V']"
      ]
     },
     "execution_count": 27,
     "metadata": {},
     "output_type": "execute_result"
    }
   ],
   "source": [
    "cfd.conditions()"
   ]
  },
  {
   "cell_type": "code",
   "execution_count": 28,
   "metadata": {},
   "outputs": [
    {
     "data": {
      "text/plain": [
       "FreqDist({'apple': 2, 'kiwi': 1})"
      ]
     },
     "execution_count": 28,
     "metadata": {},
     "output_type": "execute_result"
    }
   ],
   "source": [
    "cfd['F']"
   ]
  },
  {
   "cell_type": "code",
   "execution_count": 29,
   "metadata": {},
   "outputs": [
    {
     "data": {
      "text/plain": [
       "FreqDist({'cabbage': 2, 'potato': 1})"
      ]
     },
     "execution_count": 29,
     "metadata": {},
     "output_type": "execute_result"
    }
   ],
   "source": [
    "cfd['V']"
   ]
  },
  {
   "cell_type": "markdown",
   "metadata": {},
   "source": [
    "\n",
    "| Method | Description |\n",
    "| ------ | ----------- |\n",
    "| cfdist = ConditionalFreqDist(pairs) | create  |\n",
    "| cfdist.conditions() | show conditions |\n",
    "| cfdist[condition] | freq distribution for the condition |\n",
    "| cfdist[condition][sample] | freq for the given condition |\n",
    "| cfdist.tabulate() | tabulate |\n",
    "| cfdist.plot() | plot of freq dist |\n",
    "| cfdist.plot(cumulative=True) | cumulative plot of freq dist |\n",
    "| cfdist1 < cfdist2 | compare |"
   ]
  }
 ],
 "metadata": {
  "kernelspec": {
   "display_name": "Python 3.8.3 64-bit ('base': conda)",
   "language": "python",
   "name": "python383jvsc74a57bd0dba788e4a50ad11c3aca04f6a487ccbbf2decea49c956f88ab099965f16291a4"
  },
  "language_info": {
   "codemirror_mode": {
    "name": "ipython",
    "version": 3
   },
   "file_extension": ".py",
   "mimetype": "text/x-python",
   "name": "python",
   "nbconvert_exporter": "python",
   "pygments_lexer": "ipython3",
   "version": "3.8.3"
  }
 },
 "nbformat": 4,
 "nbformat_minor": 4
}
